{
 "cells": [
  {
   "cell_type": "markdown",
   "metadata": {},
   "source": [
    "# 画像を撮影\n",
    "\n",
    "### 1.圧縮した静止画\n",
    "「raspistill」コマンドを使う\n",
    "\n",
    "```bash\n",
    "$ raspistill -o <画像のフルパス>\n",
    "```\n",
    "\n",
    "下記はカレントディレクトリ直下に「raspi-camera-1.jpg」を保存する。\n",
    "\n",
    "```bash\n",
    "$ raspistill -o ./raspi-camera-1.jpg\n",
    "```\n",
    "\n",
    "本コマンドのパラメータは[こちら](https://www.mztn.org/rpi/rpi23.html)を参照。\n",
    "\n",
    "\n",
    "\n",
    "### 2.圧縮しない静止画\n",
    "「raspiyuv」コマンドを使う。\n",
    "\n",
    "```bash\n",
    "$ raspiyuv -o <画像のフルパス>\n",
    "```\n",
    "\n",
    "下記はカレントディレクトリ直下に「raspi-camera-1.jpg」を保存する。\n",
    "\n",
    "```bash\n",
    "$ raspiyuv -o ./raspi-camera-1.jpg\n",
    "```\n",
    "\n",
    "本コマンドのパラメータは[こちら](https://www.mztn.org/rpi/rpi23.html)を参照。\n",
    "\n",
    "なぜか、ラズパイ上でファイルをひらけなかった...。\n",
    "\n",
    "### 3.動画撮影\n",
    "「raspivid」コマンドを使う。\n",
    "\n",
    "標準出力\n",
    "\n",
    "```bash\n",
    "$ raspivid -o -\n",
    "```\n",
    "\n",
    "10秒間10fpsで撮影し、「test.h264」というファイル名で保存する。\n",
    "\n",
    "```bash\n",
    "$ raspivid -o test.h264 -t 10000 -fps 10\n",
    "```\n",
    "\n",
    "本コマンドのパラメータは[こちら](https://www.mztn.org/rpi/rpi23.html)を参照。"
   ]
  }
 ],
 "metadata": {
  "kernelspec": {
   "display_name": "Python 3",
   "language": "python",
   "name": "python3"
  },
  "language_info": {
   "codemirror_mode": {
    "name": "ipython",
    "version": 3
   },
   "file_extension": ".py",
   "mimetype": "text/x-python",
   "name": "python",
   "nbconvert_exporter": "python",
   "pygments_lexer": "ipython3",
   "version": "3.6.3"
  }
 },
 "nbformat": 4,
 "nbformat_minor": 2
}
